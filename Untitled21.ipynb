{
  "nbformat": 4,
  "nbformat_minor": 0,
  "metadata": {
    "colab": {
      "provenance": []
    },
    "kernelspec": {
      "name": "python3",
      "display_name": "Python 3"
    },
    "language_info": {
      "name": "python"
    }
  },
  "cells": [
    {
      "cell_type": "markdown",
      "source": [
        "**Pimer y segundo ejercicio**"
      ],
      "metadata": {
        "id": "8kSFxQcrwPl5"
      }
    },
    {
      "cell_type": "code",
      "execution_count": 115,
      "metadata": {
        "id": "PFymakrsucdg"
      },
      "outputs": [],
      "source": [
        "import numpy as np\n",
        "\n",
        "def jacobi_iteration(A, b, x0, num_iterations=2):\n",
        "\n",
        "    D = np.diag(np.diag(A))\n",
        "    R = A - D\n",
        "\n",
        "    x = x0\n",
        "    print(\"Gauss-Jacobi:\")\n",
        "    for i in range(num_iterations):\n",
        "        x = np.dot(np.linalg.inv(D), b - np.dot(R, x))\n",
        "        print(f\"Iteración {i+1}: x = {x}\")\n",
        ""
      ]
    },
    {
      "cell_type": "code",
      "source": [
        "def gauss_seidel_iteration(A, b, x0, num_iterations=2):\n",
        "\n",
        "    n = len(b)\n",
        "    x = x0.copy()\n",
        "    print(\"Gauss-Seidel:\")\n",
        "    for iteration in range(num_iterations):\n",
        "        for i in range(n):\n",
        "            sum1 = sum(A[i][j] * x[j] for j in range(i))\n",
        "            sum2 = sum(A[i][j] * x0[j] for j in range(i+1, n))\n",
        "            x[i] = (b[i] - sum1 - sum2) / A[i][i]\n",
        "        x0 = x.copy()\n",
        "        print(f\"Iteración {iteration + 1}: x = {x}\")\n",
        ""
      ],
      "metadata": {
        "id": "cCFf2dqixICB"
      },
      "execution_count": 116,
      "outputs": []
    },
    {
      "cell_type": "markdown",
      "source": [
        "**a)**"
      ],
      "metadata": {
        "id": "wQoTdTcVwkTy"
      }
    },
    {
      "cell_type": "code",
      "source": [
        "A = np.array([[3, -1, 1],\n",
        "              [3, 6, 2],\n",
        "              [3, 3, 7]])\n",
        "a = np.array([1, 0, 4])\n",
        "x0 = np.zeros(len(a))\n",
        "\n",
        "jacobi_iteration(A, a, x0)\n",
        "gauss_seidel_iteration(A, a, x0)"
      ],
      "metadata": {
        "colab": {
          "base_uri": "https://localhost:8080/"
        },
        "id": "nFrZia0svBea",
        "outputId": "79f844e2-43fa-4867-82f9-78c0c7f4cc5c"
      },
      "execution_count": 117,
      "outputs": [
        {
          "output_type": "stream",
          "name": "stdout",
          "text": [
            "Gauss-Jacobi:\n",
            "Iteración 1: x = [0.33333333 0.         0.57142857]\n",
            "Iteración 2: x = [ 0.14285714 -0.35714286  0.42857143]\n",
            "Gauss-Seidel:\n",
            "Iteración 1: x = [ 0.33333333 -0.16666667  0.5       ]\n",
            "Iteración 2: x = [ 0.11111111 -0.22222222  0.61904762]\n"
          ]
        }
      ]
    },
    {
      "cell_type": "markdown",
      "source": [
        "**b)**"
      ],
      "metadata": {
        "id": "fSdKrMNBwpVd"
      }
    },
    {
      "cell_type": "code",
      "source": [
        "B = np.array([[10, -1, 0],\n",
        "              [-1, 10, -2],\n",
        "              [0, -2, 10]])\n",
        "b = np.array([9, 7, 6])\n",
        "x1 = np.zeros(len(b))\n",
        "\n",
        "jacobi_iteration(B, b, x1)\n",
        "gauss_seidel_iteration(B, b, x1)"
      ],
      "metadata": {
        "colab": {
          "base_uri": "https://localhost:8080/"
        },
        "id": "LeDf4l4Hvj_E",
        "outputId": "524497ba-0a68-4cb6-f277-0b35bf985aa4"
      },
      "execution_count": 118,
      "outputs": [
        {
          "output_type": "stream",
          "name": "stdout",
          "text": [
            "Gauss-Jacobi:\n",
            "Iteración 1: x = [0.9 0.7 0.6]\n",
            "Iteración 2: x = [0.97 0.91 0.74]\n",
            "Gauss-Seidel:\n",
            "Iteración 1: x = [0.9   0.79  0.758]\n",
            "Iteración 2: x = [0.979  0.9495 0.7899]\n"
          ]
        }
      ]
    },
    {
      "cell_type": "markdown",
      "source": [
        "**c)**"
      ],
      "metadata": {
        "id": "fdskGQXhwxeR"
      }
    },
    {
      "cell_type": "code",
      "source": [
        "C = np.array([[10, 5, 0, 0],\n",
        "              [5, 10, -4, 0],\n",
        "              [0, -4, 8, -1],\n",
        "              [0, 0, -1, 5]])\n",
        "c = np.array([6, 25, -11, -11])\n",
        "x2 = np.zeros(len(c))\n",
        "\n",
        "jacobi_iteration(C, c, x2)\n",
        "gauss_seidel_iteration(C, c, x2)"
      ],
      "metadata": {
        "colab": {
          "base_uri": "https://localhost:8080/"
        },
        "id": "Eeqq16qswBni",
        "outputId": "adae0330-e6aa-4b07-e70d-65598bb979ac"
      },
      "execution_count": 119,
      "outputs": [
        {
          "output_type": "stream",
          "name": "stdout",
          "text": [
            "Gauss-Jacobi:\n",
            "Iteración 1: x = [ 0.6    2.5   -1.375 -2.2  ]\n",
            "Iteración 2: x = [-0.65   1.65  -0.4   -2.475]\n",
            "Gauss-Seidel:\n",
            "Iteración 1: x = [ 0.6    2.2   -0.275 -2.255]\n",
            "Iteración 2: x = [-0.5       2.64     -0.336875 -2.267375]\n"
          ]
        }
      ]
    },
    {
      "cell_type": "markdown",
      "source": [
        "**d)**"
      ],
      "metadata": {
        "id": "ixmFjALFwzU2"
      }
    },
    {
      "cell_type": "code",
      "source": [
        "D = np.array([[4, 1, 1, 0, 1],\n",
        "              [-1, -3, 1, 1, 0],\n",
        "              [2, 1, 5, -1, -1],\n",
        "              [-1, -1, -1, 4, 0],\n",
        "              [0, 2, -1, 1, 4]])\n",
        "d = np.array([6, 6, 6, 6, 6])\n",
        "x3 = np.zeros(len(d))\n",
        "\n",
        "jacobi_iteration(D, d, x3)\n",
        "gauss_seidel_iteration(D, d, x3)"
      ],
      "metadata": {
        "colab": {
          "base_uri": "https://localhost:8080/"
        },
        "id": "BJAVZ4sQwOYN",
        "outputId": "765ad8e2-95d1-4ad6-9db0-768696ac60ff"
      },
      "execution_count": 120,
      "outputs": [
        {
          "output_type": "stream",
          "name": "stdout",
          "text": [
            "Gauss-Jacobi:\n",
            "Iteración 1: x = [ 1.5 -2.   1.2  1.5  1.5]\n",
            "Iteración 2: x = [ 1.325 -1.6    1.6    1.675  2.425]\n",
            "Gauss-Seidel:\n",
            "Iteración 1: x = [ 1.5     -2.5      1.1      1.525    2.64375]\n",
            "Iteración 2: x = [ 1.1890625  -1.52135417  1.86239583  1.88252604  2.25564453]\n"
          ]
        }
      ]
    },
    {
      "cell_type": "markdown",
      "source": [
        "**Tercer y cuarto ejercicio**"
      ],
      "metadata": {
        "id": "FuUCpqeMyu89"
      }
    },
    {
      "cell_type": "code",
      "source": [
        "def metodo_jacobi(A, b, tol=1e-3, max_iteraciones=100):\n",
        "\n",
        "    D = np.diag(np.diag(A))\n",
        "    R = A - D\n",
        "\n",
        "    x = np.zeros(len(b))\n",
        "    for iteracion in range(max_iteraciones):\n",
        "        x_nuevo = np.dot(np.linalg.inv(D), b - np.dot(R, x))\n",
        "        if np.linalg.norm(x_nuevo - x, ord=np.inf) < tol:\n",
        "            return x_nuevo\n",
        "        x = x_nuevo\n",
        "\n",
        "    print(\"Se alcanzó el número máximo de iteraciones sin convergencia.\")\n",
        "    return x"
      ],
      "metadata": {
        "id": "BP32X_LdyxKo"
      },
      "execution_count": 121,
      "outputs": []
    },
    {
      "cell_type": "code",
      "source": [
        "def metodo_gauss_seidel(A, b, tol=1e-3, max_iteraciones=100):\n",
        "\n",
        "    n = len(b)\n",
        "    x = np.zeros(n)\n",
        "\n",
        "    for iteracion in range(max_iteraciones):\n",
        "        x_nuevo = np.copy(x)\n",
        "        for i in range(n):\n",
        "            suma1 = sum(A[i][j] * x_nuevo[j] for j in range(i))\n",
        "            suma2 = sum(A[i][j] * x[j] for j in range(i + 1, n))\n",
        "            x_nuevo[i] = (b[i] - suma1 - suma2) / A[i][i]\n",
        "\n",
        "        if np.linalg.norm(x_nuevo - x, ord=np.inf) < tol:\n",
        "            return x_nuevo\n",
        "\n",
        "        x = x_nuevo\n",
        "\n",
        "    print(\"Se alcanzó el número máximo de iteraciones sin convergencia.\")\n",
        "    return x"
      ],
      "metadata": {
        "id": "OrgeBqH20Fs-"
      },
      "execution_count": 122,
      "outputs": []
    },
    {
      "cell_type": "code",
      "source": [
        "solucion = metodo_jacobi(A, a)\n",
        "print(\"Solución jacobi ejercico a:\", solucion)\n",
        "solucion = metodo_gauss_seidel(A, a)\n",
        "print(\"Solución seidel ejercico a:\", solucion)"
      ],
      "metadata": {
        "colab": {
          "base_uri": "https://localhost:8080/"
        },
        "id": "iZka7CxszKyA",
        "outputId": "7aeeebef-78e6-4881-c483-28edcf510b5d"
      },
      "execution_count": 123,
      "outputs": [
        {
          "output_type": "stream",
          "name": "stdout",
          "text": [
            "Solución jacobi ejercico a: [ 0.03510079 -0.23663751  0.65812732]\n",
            "Solución seidel ejercico a: [ 0.03535107 -0.23678863  0.65775895]\n"
          ]
        }
      ]
    },
    {
      "cell_type": "code",
      "source": [
        "solucion = metodo_jacobi(B, b)\n",
        "print(\"Solución jacobi ejercico a:\", solucion)\n",
        "solucion = metodo_gauss_seidel(B, b)\n",
        "print(\"Solución seidel ejercico a:\", solucion)"
      ],
      "metadata": {
        "colab": {
          "base_uri": "https://localhost:8080/"
        },
        "id": "A9rQNN7-zR4r",
        "outputId": "6d9bee5d-ef97-4444-a5cb-9a3ba84f987f"
      },
      "execution_count": 124,
      "outputs": [
        {
          "output_type": "stream",
          "name": "stdout",
          "text": [
            "Solución jacobi ejercico a: [0.995725 0.957775 0.79145 ]\n",
            "Solución seidel ejercico a: [0.9957475  0.95787375 0.79157475]\n"
          ]
        }
      ]
    },
    {
      "cell_type": "code",
      "source": [
        "solucion = metodo_jacobi(C, c)\n",
        "print(\"Solución jacobi ejercico a:\", solucion)\n",
        "solucion = metodo_gauss_seidel(C, c)\n",
        "print(\"Solución seidel ejercico a:\", solucion)"
      ],
      "metadata": {
        "colab": {
          "base_uri": "https://localhost:8080/"
        },
        "id": "knGajvFMzTnl",
        "outputId": "18db5d8b-82fa-423e-e348-2f9a27f087fe"
      },
      "execution_count": 125,
      "outputs": [
        {
          "output_type": "stream",
          "name": "stdout",
          "text": [
            "Solución jacobi ejercico a: [-0.79710581  2.79517067 -0.25939578 -2.25179299]\n",
            "Solución seidel ejercico a: [-0.79691476  2.79461827 -0.25918081 -2.25183616]\n"
          ]
        }
      ]
    },
    {
      "cell_type": "code",
      "source": [
        "solucion = metodo_jacobi(D, d)\n",
        "print(\"Solución jacobi ejercico a:\", solucion)\n",
        "solucion = metodo_gauss_seidel(D, d)\n",
        "print(\"Solución seidel ejercico a:\", solucion)"
      ],
      "metadata": {
        "colab": {
          "base_uri": "https://localhost:8080/"
        },
        "id": "S_kGukO8zZZl",
        "outputId": "790c0010-698d-48e4-d622-fd024dec0f0a"
      },
      "execution_count": 126,
      "outputs": [
        {
          "output_type": "stream",
          "name": "stdout",
          "text": [
            "Solución jacobi ejercico a: [ 0.78708833 -1.00303576  1.86604817  1.91244923  1.98957067]\n",
            "Solución seidel ejercico a: [ 0.78668253 -1.00271872  1.86628339  1.9125618   1.98978976]\n"
          ]
        }
      ]
    },
    {
      "cell_type": "markdown",
      "source": [
        "**Quinto ejercicio**"
      ],
      "metadata": {
        "id": "bNAzMRmK11ea"
      }
    },
    {
      "cell_type": "markdown",
      "source": [
        "**a)**"
      ],
      "metadata": {
        "id": "Oozlg2dU2Yft"
      }
    },
    {
      "cell_type": "code",
      "source": [
        "def metodo_jacobi_25(A, b, tol=1e-3, max_iteraciones=25):\n",
        "\n",
        "    D = np.diag(np.diag(A))\n",
        "    R = A - D\n",
        "\n",
        "    x = np.zeros(len(b))\n",
        "    for iteracion in range(max_iteraciones):\n",
        "        x_nuevo = np.dot(np.linalg.inv(D), b - np.dot(R, x))\n",
        "        if np.linalg.norm(x_nuevo - x, ord=np.inf) < tol:\n",
        "            return x_nuevo\n",
        "        x = x_nuevo\n",
        "\n",
        "    print(\"Se alcanzó el número máximo de iteraciones sin convergencia.\")\n",
        "    return x"
      ],
      "metadata": {
        "id": "4LS4ODYX11Me"
      },
      "execution_count": 127,
      "outputs": []
    },
    {
      "cell_type": "code",
      "source": [
        "Q5 = np.array([[2, -1, 1],\n",
        "              [1, 2, 2],\n",
        "              [-1, -1, 2]])\n",
        "q5 = np.array([-1, 4, -5])\n",
        "\n",
        "solucion = metodo_jacobi(Q5, q5)\n",
        "print(\"Solución después de 25 iteraciones:\", solucion)"
      ],
      "metadata": {
        "colab": {
          "base_uri": "https://localhost:8080/"
        },
        "id": "8yerTNX_2QWx",
        "outputId": "a2c26ed4-cd91-42a3-fb25-930846cd60d5"
      },
      "execution_count": 128,
      "outputs": [
        {
          "output_type": "stream",
          "name": "stdout",
          "text": [
            "Se alcanzó el número máximo de iteraciones sin convergencia.\n",
            "Solución después de 25 iteraciones: [-1.31416702 -2.87547229  0.06188952]\n"
          ]
        }
      ]
    },
    {
      "cell_type": "markdown",
      "source": [
        "**b)**"
      ],
      "metadata": {
        "id": "MVBRnHHv2dPl"
      }
    },
    {
      "cell_type": "code",
      "source": [
        "def metodo_gauss_seidel_tol(A, b, tol=1e-5, max_iteraciones=100):\n",
        "\n",
        "    n = len(b)\n",
        "    x = np.zeros(n)\n",
        "\n",
        "    for iteracion in range(max_iteraciones):\n",
        "        x_nuevo = np.copy(x)\n",
        "        for i in range(n):\n",
        "            suma1 = sum(A[i][j] * x_nuevo[j] for j in range(i))\n",
        "            suma2 = sum(A[i][j] * x[j] for j in range(i + 1, n))\n",
        "            x_nuevo[i] = (b[i] - suma1 - suma2) / A[i][i]\n",
        "\n",
        "        if np.linalg.norm(x_nuevo - x, ord=np.inf) < tol:\n",
        "            return x_nuevo\n",
        "\n",
        "        x = x_nuevo\n",
        "\n",
        "    print(\"Se alcanzó el número máximo de iteraciones sin convergencia.\")\n",
        "    return x"
      ],
      "metadata": {
        "id": "Kj-8Ppd62eyq"
      },
      "execution_count": 129,
      "outputs": []
    },
    {
      "cell_type": "code",
      "source": [
        "solucion = metodo_gauss_seidel_tol(Q5, q5)\n",
        "print(\"Solución tolerancia 1e-5:\", solucion)"
      ],
      "metadata": {
        "colab": {
          "base_uri": "https://localhost:8080/"
        },
        "id": "IJ5lr2a-2wPH",
        "outputId": "f2801db0-56cd-4586-937c-690ff2a336cb"
      },
      "execution_count": 130,
      "outputs": [
        {
          "output_type": "stream",
          "name": "stdout",
          "text": [
            "Solución tolerancia 1e-5: [ 1.05882102  2.29411674 -0.82353112]\n"
          ]
        }
      ]
    },
    {
      "cell_type": "markdown",
      "source": [
        "**Sexto ejercicio**"
      ],
      "metadata": {
        "id": "jbxMmJ5V3ZdG"
      }
    },
    {
      "cell_type": "markdown",
      "source": [
        "**a)**"
      ],
      "metadata": {
        "id": "sdOjje5t4SkD"
      }
    },
    {
      "cell_type": "code",
      "source": [
        "def es_diagonal_estrictamente_dominante(matriz):\n",
        "    n = matriz.shape[0]\n",
        "    for i in range(n):\n",
        "        suma_fila = sum(abs(matriz[i, j]) for j in range(n) if j != i)\n",
        "        if abs(matriz[i, i]) <= suma_fila:\n",
        "            return False, i+1\n",
        "    return True, None"
      ],
      "metadata": {
        "id": "nvjdQ6vv3Y6Z"
      },
      "execution_count": 131,
      "outputs": []
    },
    {
      "cell_type": "code",
      "source": [
        "S = np.array([\n",
        "    [1, 0, -1],\n",
        "    [-0.5, 1, -0.25],\n",
        "    [1, -0.5, 1]\n",
        "])\n",
        "\n",
        "resultado, fila = es_diagonal_estrictamente_dominante(S)\n",
        "\n",
        "if resultado:\n",
        "    print(\"La matriz tiene una diagonal estrictamente dominante.\")\n",
        "else:\n",
        "    print(f\"La matriz no tiene una diagonal estrictamente dominante. Fila {fila} no cumple la condición.\")\n"
      ],
      "metadata": {
        "colab": {
          "base_uri": "https://localhost:8080/"
        },
        "id": "-au2cfyv4OpH",
        "outputId": "0340c36f-faad-43dc-d302-e45a2ca63574"
      },
      "execution_count": 132,
      "outputs": [
        {
          "output_type": "stream",
          "name": "stdout",
          "text": [
            "La matriz no tiene una diagonal estrictamente dominante. Fila 1 no cumple la condición.\n"
          ]
        }
      ]
    },
    {
      "cell_type": "markdown",
      "source": [
        "**b)**"
      ],
      "metadata": {
        "id": "9CNhvtTf4UE-"
      }
    },
    {
      "cell_type": "code",
      "source": [
        "def metodo_gauss_seidel_tole(A, b, tol=1e22, max_iteraciones=300):\n",
        "\n",
        "    n = len(b)\n",
        "    x = np.zeros(n)\n",
        "\n",
        "    for iteracion in range(max_iteraciones):\n",
        "        x_nuevo = np.copy(x)\n",
        "        for i in range(n):\n",
        "            suma1 = sum(A[i][j] * x_nuevo[j] for j in range(i))\n",
        "            suma2 = sum(A[i][j] * x[j] for j in range(i + 1, n))\n",
        "            x_nuevo[i] = (b[i] - suma1 - suma2) / A[i][i]\n",
        "\n",
        "        if np.linalg.norm(x_nuevo - x, ord=np.inf) < tol:\n",
        "            return x_nuevo\n",
        "\n",
        "        x = x_nuevo\n",
        "\n",
        "    print(\"Se alcanzó el número máximo de iteraciones sin convergencia.\")\n",
        "    return x"
      ],
      "metadata": {
        "id": "z-Ez58W34VUf"
      },
      "execution_count": 133,
      "outputs": []
    },
    {
      "cell_type": "code",
      "source": [
        "Sb = np.array([\n",
        "    [1, 0, -1],\n",
        "    [-0.5, 1, -0.25],\n",
        "    [1, -0.5, 1]\n",
        "])\n",
        "\n",
        "sb = np.array([0.2, -1.425, 2])\n",
        "solucion = metodo_gauss_seidel_tol(Sb, sb)\n",
        "print(\"Solución tolerancia 1e22:\", solucion)"
      ],
      "metadata": {
        "colab": {
          "base_uri": "https://localhost:8080/"
        },
        "id": "gOO6TDNW4mek",
        "outputId": "ffaaf8d0-496b-4076-e3ec-1e53f5bb1c9e"
      },
      "execution_count": 134,
      "outputs": [
        {
          "output_type": "stream",
          "name": "stdout",
          "text": [
            "Solución tolerancia 1e22: [ 0.89999655 -0.80000259  0.70000216]\n"
          ]
        }
      ]
    },
    {
      "cell_type": "markdown",
      "source": [
        "**c)**"
      ],
      "metadata": {
        "id": "omsX842040wP"
      }
    },
    {
      "cell_type": "code",
      "source": [
        "Sc = np.array([\n",
        "    [1, 0, -2],\n",
        "    [-0.5, 1, -0.25],\n",
        "    [1, -0.5, 1]\n",
        "])\n",
        "\n",
        "sc = np.array([0.2, -1.425, 2])\n",
        "solucion = metodo_gauss_seidel_tol(Sb, sb)\n",
        "print(\"Solición cambio de sistema:\", solucion)"
      ],
      "metadata": {
        "colab": {
          "base_uri": "https://localhost:8080/"
        },
        "id": "2JfdSibD40En",
        "outputId": "153efce5-4663-49ad-cef1-47d91857eed4"
      },
      "execution_count": 135,
      "outputs": [
        {
          "output_type": "stream",
          "name": "stdout",
          "text": [
            "Solición cambio de sistema: [ 0.89999655 -0.80000259  0.70000216]\n"
          ]
        }
      ]
    },
    {
      "cell_type": "markdown",
      "source": [
        "**Séptimo ejercicio**"
      ],
      "metadata": {
        "id": "QwbPcdEy5eoF"
      }
    },
    {
      "cell_type": "code",
      "source": [
        "def metodo_gauss_jacobi_tol(A, b, tol=1e-22, max_iteraciones=300):\n",
        "    n = len(b)\n",
        "    x = np.zeros(n)\n",
        "\n",
        "    for iteracion in range(max_iteraciones):\n",
        "        x_nuevo = np.zeros_like(x)\n",
        "        for i in range(n):\n",
        "            suma = sum(A[i][j] * x[j] for j in range(n) if j != i)\n",
        "            x_nuevo[i] = (b[i] - suma) / A[i][i]\n",
        "\n",
        "        if np.linalg.norm(x_nuevo - x, ord=np.inf) < tol:\n",
        "            return x_nuevo, iteracion\n",
        "\n",
        "        x = x_nuevo\n",
        "\n",
        "    print(\"Se alcanzó el número máximo de iteraciones sin convergencia.\")"
      ],
      "metadata": {
        "id": "lOUCMPpN5gTp"
      },
      "execution_count": 150,
      "outputs": []
    },
    {
      "cell_type": "code",
      "source": [
        "sb = np.array([0.2, -1.425, 2])\n",
        "solucion = metodo_gauss_jacobi_tol(Sb, sb)\n",
        "print(\"Solución Jacobi tolerancia 1e22:\", solucion)"
      ],
      "metadata": {
        "colab": {
          "base_uri": "https://localhost:8080/"
        },
        "id": "-woYRs_652m2",
        "outputId": "c9b742db-0f26-455c-8fa9-9fa516f5813a"
      },
      "execution_count": 151,
      "outputs": [
        {
          "output_type": "stream",
          "name": "stdout",
          "text": [
            "Se alcanzó el número máximo de iteraciones sin convergencia.\n",
            "Solución Jacobi tolerancia 1e22: None\n"
          ]
        }
      ]
    },
    {
      "cell_type": "code",
      "source": [
        "solucion = metodo_gauss_jacobi_tol(Sb, sb)\n",
        "print(\"Solición Jacobi cambio de sistema:\", solucion)"
      ],
      "metadata": {
        "colab": {
          "base_uri": "https://localhost:8080/"
        },
        "id": "zNj6tvvr57o7",
        "outputId": "36db2b9d-7222-47f0-960b-c213818237f8"
      },
      "execution_count": 152,
      "outputs": [
        {
          "output_type": "stream",
          "name": "stdout",
          "text": [
            "Se alcanzó el número máximo de iteraciones sin convergencia.\n",
            "Solición Jacobi cambio de sistema: None\n"
          ]
        }
      ]
    },
    {
      "cell_type": "markdown",
      "source": [
        "**Octavo ejercicio**"
      ],
      "metadata": {
        "id": "7F31vkN66L6F"
      }
    },
    {
      "cell_type": "markdown",
      "source": [
        "**a)**"
      ],
      "metadata": {
        "id": "djJ2WIuc7qKp"
      }
    },
    {
      "cell_type": "code",
      "source": [
        "O = np.array([\n",
        "    [4, -1, 0, 0, -1, 0, 0, 0, 0, 0, 0, 0],\n",
        "    [-1, 4, -1, 0, 0, 0, 0, 0, 0, 0, 0, 0],\n",
        "    [0, -1, 4, -1, 0, 0, 0, 0, 0, 0, 0, 0],\n",
        "    [0, 0, -1, 4, 0, 0, -1, 0, 0, 0, 0, 0],\n",
        "    [-1, 0, 0, 0, 4, -1, 0, 0, 0, 0, 0, 0],\n",
        "    [0, 0, 0, 0, -1, 4, 0, 0, -1, 0, 0, 0],\n",
        "    [0, 0, 0, -1, 0, 0, 4, -1, 0, 0, 0, 0],\n",
        "    [0, 0, 0, 0, 0, 0, -1, 4, -1, 0, 0, 0],\n",
        "    [0, 0, 0, 0, 0, -1, 0, -1, 4, 0, 0, -1],\n",
        "    [0, 0, 0, 0, 0, 0, 0, 0, 0, 4, -1, 0],\n",
        "    [0, 0, 0, 0, 0, 0, 0, 0, 0, -1, 4, -1],\n",
        "    [0, 0, 0, 0, 0, 0, 0, 0, -1, 0, -1, 4]\n",
        "])\n",
        "\n",
        "o = np.array([220, 110, 110, 220, 110, 110, 110, 110, 220, 110, 110, 220])"
      ],
      "metadata": {
        "id": "Qt7zcHVq6PCI"
      },
      "execution_count": 139,
      "outputs": []
    },
    {
      "cell_type": "code",
      "source": [
        "resultado, fila = es_diagonal_estrictamente_dominante(O)\n",
        "\n",
        "if resultado:\n",
        "    print(\"La matriz tiene una diagonal estrictamente dominante.\")\n",
        "else:\n",
        "    print(f\"La matriz no tiene una diagonal estrictamente dominante. Fila {fila} no cumple la condición.\")"
      ],
      "metadata": {
        "colab": {
          "base_uri": "https://localhost:8080/"
        },
        "id": "DNl1pz8n6u5z",
        "outputId": "6b211b69-ec84-4fcb-e5c6-32605bac17e4"
      },
      "execution_count": 140,
      "outputs": [
        {
          "output_type": "stream",
          "name": "stdout",
          "text": [
            "La matriz tiene una diagonal estrictamente dominante.\n"
          ]
        }
      ]
    },
    {
      "cell_type": "markdown",
      "source": [
        "**b)**"
      ],
      "metadata": {
        "id": "L0o9RO177scd"
      }
    },
    {
      "cell_type": "code",
      "source": [
        "def gauss_jacobi_tol_8(A, b, tol=1e-2, max_iteraciones=1000):\n",
        "    n = len(b)\n",
        "    x = np.zeros(n)\n",
        "\n",
        "    for iteracion in range(max_iteraciones):\n",
        "        x_nuevo = np.zeros_like(x)\n",
        "        for i in range(n):\n",
        "            suma = sum(A[i][j] * x[j] for j in range(n) if j != i)\n",
        "            x_nuevo[i] = (b[i] - suma) / A[i][i]\n",
        "\n",
        "        if np.linalg.norm(x_nuevo - x, ord=np.inf) < tol:\n",
        "            return x_nuevo, iteracion\n",
        "\n",
        "        x = x_nuevo\n",
        "\n",
        "    print(\"Se alcanzó el número máximo de iteraciones sin convergencia.\")"
      ],
      "metadata": {
        "id": "-dsvLNDU7pXk"
      },
      "execution_count": 155,
      "outputs": []
    },
    {
      "cell_type": "code",
      "source": [
        "def gauss_seidel_tol8(A, b, tol=1e-2, max_iteraciones=1000):\n",
        "    n = len(b)\n",
        "    x = np.zeros(n)\n",
        "\n",
        "    for iteracion in range(max_iteraciones):\n",
        "        x_nuevo = np.copy(x)\n",
        "        for i in range(n):\n",
        "            suma1 = sum(A[i][j] * x_nuevo[j] for j in range(i))\n",
        "            suma2 = sum(A[i][j] * x[j] for j in range(i + 1, n))\n",
        "            x_nuevo[i] = (b[i] - suma1 - suma2) / A[i][i]\n",
        "\n",
        "        if np.linalg.norm(x_nuevo - x, ord=np.inf) < tol:\n",
        "            return x_nuevo, iteracion\n",
        "\n",
        "        x = x_nuevo\n",
        "\n",
        "    print(\"Se alcanzó el número máximo de iteraciones sin convergencia.\")\n",
        "    return x"
      ],
      "metadata": {
        "id": "4oGbH-vu9BsT"
      },
      "execution_count": 162,
      "outputs": []
    },
    {
      "cell_type": "code",
      "source": [
        "sol = gauss_jacobi_tol_8(O, o)\n",
        "print(\"Solución Jacobi tolerancia 1e-2:\", sol)\n",
        "sol = gauss_seidel_tol8(O, o)\n",
        "print(\"Solución Seidel tolerancia 1e-2:\", sol)"
      ],
      "metadata": {
        "colab": {
          "base_uri": "https://localhost:8080/"
        },
        "id": "HLf1d4qm78TF",
        "outputId": "16556fe0-1ef8-481e-b92c-d5b6eb2f2b1b"
      },
      "execution_count": 163,
      "outputs": [
        {
          "output_type": "stream",
          "name": "stdout",
          "text": [
            "Solución Jacobi tolerancia 1e-2: (array([ 88.56189051,  66.18473877,  66.18473877,  88.56189051,\n",
            "        68.07105926,  73.73321353,  68.07105926,  73.73321353,\n",
            "       116.87473866,  43.33541929,  63.34492734, 100.05204068]), 14)\n",
            "Solución Seidel tolerancia 1e-2: (array([ 88.56398155,  66.18712394,  66.18754444,  88.56541646,\n",
            "        68.07550445,  73.73968709,  68.0759504 ,  73.73979858,\n",
            "       116.88434376,  43.33707837,  63.34874193, 100.05827142]), 9)\n"
          ]
        }
      ]
    }
  ]
}